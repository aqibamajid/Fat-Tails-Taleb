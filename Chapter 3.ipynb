{
 "cells": [
  {
   "cell_type": "markdown",
   "metadata": {},
   "source": [
    "__Creating Normal Distribution Class__"
   ]
  },
  {
   "cell_type": "code",
   "execution_count": 9,
   "metadata": {},
   "outputs": [],
   "source": [
    "from scipy.stats import norm\n",
    "import seaborn as sns\n",
    "#sns.set(color_codes=True)\n",
    "import matplotlib.pyplot as plt\n",
    "import numpy as np\n",
    "\n",
    "class Normal_Dist:\n",
    "    \n",
    "    #Initialise constructor\n",
    "    def __init__(self, mean, sd):\n",
    "        self.mean, self.sd = mean, sd\n",
    "        \n",
    "        \n",
    "    # Create plot function    \n",
    "    def visualise(self, colour):\n",
    "        \n",
    "        data = norm.rvs(size=10000,loc=self.mean,scale=self.sd)\n",
    "        \n",
    "        \n",
    "        \n",
    "        \n",
    "        ax = sns.distplot(data, hist=False ,\n",
    "                          #bins=100,\n",
    "                          #kde=True,\n",
    "                          color=colour,\n",
    "                          hist_kws={\"linewidth\": 15,'alpha':1} , label='standard deviation: '+str(self.sd) )\n",
    "\n",
    "        ax.set_xlim(0,max(data))\n",
    "        ax.set(xlabel='x', ylabel='Frequency')\n",
    "        plt.legend()\n",
    "        \n",
    "        \n",
    "    # to calculate P(X > obs) , where X is the random variable, and obs represents a possible observed deviation\n",
    "    # using the survival function norm.sf\n",
    "    def probability(self, deviation):\n",
    "        \n",
    "        return norm.sf(deviation, self.mean, self.sd)\n",
    "        \n",
    "        \n",
    "    \n",
    "        \n",
    "    "
   ]
  },
  {
   "cell_type": "markdown",
   "metadata": {},
   "source": [
    "__Plotting example of Mediocristan and Extremistan__"
   ]
  },
  {
   "cell_type": "code",
   "execution_count": 3,
   "metadata": {},
   "outputs": [
    {
     "data": {
      "image/png": "[encoded data removed]",
      "text/plain": [
       "<Figure size 432x288 with 1 Axes>"
      ]
     },
     "metadata": {
      "needs_background": "light"
     },
     "output_type": "display_data"
    }
   ],
   "source": [
    "mediocre = Normal_Dist(0,1)\n",
    "\n",
    "mediocre.visualise('red')\n",
    "\n",
    "extreme = Normal_Dist(0,5)\n",
    "\n",
    "extreme.visualise('blue')\n"
   ]
  },
  {
   "cell_type": "markdown",
   "metadata": {},
   "source": [
    "The blue line represents a Gaussian with a standard deviation 5 times greater than that of the standard Gaussian. "
   ]
  },
  {
   "cell_type": "markdown",
   "metadata": {},
   "source": [
    "__Mediocristan__"
   ]
  },
  {
   "cell_type": "code",
   "execution_count": 28,
   "metadata": {},
   "outputs": [
    {
     "name": "stdout",
     "output_type": "stream",
     "text": [
      "Mediocristan:\n",
      "\n",
      "a) P(X>3)P(X>3) = 1.8222246957988004e-06\n",
      "b) P(X>2*3) = 9.865876450376946e-10\n",
      "\n",
      "a>b? : True\n"
     ]
    }
   ],
   "source": [
    "deviation1 = 3*mediocre.sd\n",
    "\n",
    "print('Mediocristan:\\n')\n",
    "print('a) P(X>{})P(X>{}) = {}'.format(deviation1,deviation1, mediocre.probability(deviation1)**2))\n",
    "print('b) P(X>2*{}) = {}'.format(deviation1, mediocre.probability(deviation1*2)))\n",
    "print('\\na>b? : ' +str(mediocre.probability(deviation1)**2 > mediocre.probability(deviation1*2)))"
   ]
  },
  {
   "cell_type": "markdown",
   "metadata": {},
   "source": [
    "Above, we confirm the results on page 22. "
   ]
  },
  {
   "cell_type": "markdown",
   "metadata": {},
   "source": [
    "__Recreating figure 3.1__"
   ]
  },
  {
   "cell_type": "code",
   "execution_count": 25,
   "metadata": {},
   "outputs": [
    {
     "data": {
      "image/png": "[encoded data removed]",
      "text/plain": [
       "<Figure size 432x288 with 1 Axes>"
      ]
     },
     "metadata": {
      "needs_background": "light"
     },
     "output_type": "display_data"
    }
   ],
   "source": [
    "ratio = [mediocre.probability(i*mediocre.sd)**2 / mediocre.probability(i*mediocre.sd*2) for i in np.arange(0,4,0.01)]\n",
    "\n",
    "plt.plot(np.arange(0,4,0.01),ratio)\n",
    "plt.ylim(0, 30000)\n",
    "plt.xlabel('K (sigma)')\n",
    "plt.title('P(K)^2 / P(2K)')\n",
    "plt.show()\n"
   ]
  },
  {
   "cell_type": "markdown",
   "metadata": {},
   "source": [
    "The above graph shows that in mediocristan, for higher sigma events, it is increasingly more likely to observe K on 2 separate occasions, rather than a single observation of 2K. "
   ]
  },
  {
   "cell_type": "markdown",
   "metadata": {},
   "source": [
    "__Extremistan__"
   ]
  },
  {
   "cell_type": "code",
   "execution_count": 99,
   "metadata": {},
   "outputs": [
    {
     "name": "stdout",
     "output_type": "stream",
     "text": [
      "Extremistan:\n",
      "\n",
      "P(X>15)P(X>15) = 1.8222246957988004e-06\n",
      "P(X>2*15) = 9.865876450376946e-10\n",
      "\n",
      "a>b? : True\n"
     ]
    }
   ],
   "source": [
    "# Extremistan\n",
    "\n",
    "deviation2 = 3*extreme.sd\n",
    "\n",
    "print('Extremistan:\\n')\n",
    "print('P(X>{})P(X>{}) = {}'.format(deviation2,deviation2, extreme.probability(deviation2)**2))\n",
    "print('P(X>2*{}) = {}'.format(deviation2, extreme.probability(deviation2*2)))\n",
    "print('\\na>b? : ' +str(extreme.probability(deviation2)**2 > extreme.probability(deviation2*2)))"
   ]
  },
  {
   "cell_type": "markdown",
   "metadata": {},
   "source": [
    "Should be getting false for this, seems a Gaussian with larger deviations doesn't satisfy a fat-tail distribution. Will update. "
   ]
  }
 ],
 "metadata": {
  "kernelspec": {
   "display_name": "Python 3",
   "language": "python",
   "name": "python3"
  },
  "language_info": {
   "codemirror_mode": {
    "name": "ipython",
    "version": 3
   },
   "file_extension": ".py",
   "mimetype": "text/x-python",
   "name": "python",
   "nbconvert_exporter": "python",
   "pygments_lexer": "ipython3",
   "version": "3.7.6"
  }
 },
 "nbformat": 4,
 "nbformat_minor": 4
}
